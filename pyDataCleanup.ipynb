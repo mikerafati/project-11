{
 "cells": [
  {
   "cell_type": "code",
   "execution_count": 1,
   "metadata": {},
   "outputs": [],
   "source": [
    "#import dependencies\n",
    "import pandas as pd\n",
    "import numpy as np\n",
    "import requests\n",
    "import json\n",
    "from config import gkey"
   ]
  },
  {
   "cell_type": "code",
   "execution_count": 2,
   "metadata": {},
   "outputs": [],
   "source": [
    "#dexter's code\n",
    "#read in the large file\n",
    "df =  pd.read_csv('./resources/data/source/Consumer_Airfare_Report__Table_1a_-_All_U.S._Airport_Pair_Markets.csv')\n",
    "\n",
    "#filter the years and where the origin is AUS\n",
    "df = df[(df['Year'] >= 2007) & (df['Year'] <= 2017) & (df['airport_1'] == 'AUS')]\n",
    "\n",
    "#per the dataset documentation, the column passengers holds the value for passengers per day\n",
    "#the data is provided on a per quarter basis\n",
    "#so the real value of the number of passengers should be the multiplied by the number of days in a quarter, or by 91 days\n",
    "df['passengers'] = df['passengers'] * 91\n",
    "\n",
    "#save this condensed dataset\n",
    "df.to_csv('./resources/data/transformed/AUS.csv', index=False)"
   ]
  },
  {
   "cell_type": "code",
   "execution_count": 3,
   "metadata": {},
   "outputs": [],
   "source": [
    "#dexter's code\n",
    "#get the list of destination_airports to query for lat and lng\n",
    "destination_airports = df['airport_2'].unique().tolist()\n",
    "\n",
    "#get the lat and lng from the google geocode api\n",
    "coords = []\n",
    "for i in range(len(destination_airports)):\n",
    "    coord = {}\n",
    "    coord['airport_2'] = destination_airports[i]\n",
    "    \n",
    "    # Build the endpoint URL\n",
    "    target_url = (f'https://maps.googleapis.com/maps/api/geocode/json?address={destination_airports[i]}&key={gkey}')\n",
    "    \n",
    "    #get the json data\n",
    "    geo_data = requests.get(target_url).json()\n",
    "    \n",
    "    #get the lat and the lng\n",
    "    coord['lat']= geo_data[\"results\"][0][\"geometry\"][\"location\"][\"lat\"]\n",
    "    coord['lng'] = geo_data[\"results\"][0][\"geometry\"][\"location\"][\"lng\"]    \n",
    "    coords.append(coord)\n",
    "\n",
    "#save this dataset to a csv\n",
    "pd.DataFrame(coords).to_csv('./resources/data/transformed/destination_airports_lat_lng.csv', index=False)"
   ]
  },
  {
   "cell_type": "code",
   "execution_count": 4,
   "metadata": {},
   "outputs": [],
   "source": [
    "#Mary's code\n",
    "#read in the large file\n",
    "df = pd.read_csv('./resources/data/source/Consumer_Airfare_Report__Table_1a_-_All_U.S._Airport_Pair_Markets.csv')\n",
    "\n",
    "#filter the data, select the columns we need and save for use in the analysis notebook\n",
    "df.loc[df['city1'] == 'Austin, TX'][['Year', 'quarter', 'city1', 'carrier_lg']].to_csv('./resources/data/transformed/airlinedata.csv', index=False)\n"
   ]
  },
  {
   "cell_type": "code",
   "execution_count": 5,
   "metadata": {},
   "outputs": [],
   "source": [
    "#Alan's code\n",
    "\n",
    "#read in the file and just pull out 2 columns\n",
    "df = pd.read_csv(\"./resources/data/source/AUS_monthly_passengers.csv\")[['Month', 'Total Passengers']]\n",
    "\n",
    "#convert the Month to a datetime value\n",
    "df['Month'] = pd.to_datetime(df['Month'])\n",
    "\n",
    "#sort the data and save it as a new file\n",
    "df.sort_values(by='Month').set_index('Month').reset_index().to_csv('./resources/data/transformed/AUS_monthly_passengers_clean.csv', index=False)\n",
    "\n"
   ]
  },
  {
   "cell_type": "code",
   "execution_count": null,
   "metadata": {},
   "outputs": [],
   "source": []
  }
 ],
 "metadata": {
  "kernelspec": {
   "display_name": "pythondata",
   "language": "python",
   "name": "pythondata"
  },
  "language_info": {
   "codemirror_mode": {
    "name": "ipython",
    "version": 3
   },
   "file_extension": ".py",
   "mimetype": "text/x-python",
   "name": "python",
   "nbconvert_exporter": "python",
   "pygments_lexer": "ipython3",
   "version": "3.6.7"
  }
 },
 "nbformat": 4,
 "nbformat_minor": 2
}
