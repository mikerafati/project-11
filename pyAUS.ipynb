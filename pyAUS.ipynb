{
 "cells": [
  {
   "cell_type": "code",
   "execution_count": 1,
   "metadata": {},
   "outputs": [],
   "source": [
    "%matplotlib inline\n",
    "\n",
    "#import dependencies\n",
    "import pandas as pd\n",
    "import numpy as np\n",
    "import gmaps\n",
    "from config import gkey\n",
    "from matplotlib import pyplot as plt, cm\n",
    "from ipyleaflet import Map, Heatmap\n",
    "from ipywidgets import interact"
   ]
  },
  {
   "attachments": {},
   "cell_type": "markdown",
   "metadata": {},
   "source": [
    "## Passenger volume growth\n",
    "\n",
    "* Upward trend of passenger growth in Austin Airport by month throughout the years\n"
   ]
  },
  {
   "cell_type": "code",
   "execution_count": 2,
   "metadata": {},
   "outputs": [
    {
     "data": {
      "image/png": "[encoded data removed]",
      "text/plain": [
       "<Figure size 432x288 with 1 Axes>"
      ]
     },
     "metadata": {
      "needs_background": "light"
     },
     "output_type": "display_data"
    }
   ],
   "source": [
    "#read in Alan's cleaned up file \n",
    "df = pd.read_csv(\"./resources/data/transformed/AUS_monthly_passengers_clean.csv\")\n",
    "df['Month'] = pd.to_datetime(df['Month'])\n",
    "df.plot(x=\"Month\", y=\"Total Passengers\", kind=\"line\", grid=True)\n",
    "plt.xlabel(\"By month, from June 2013 to October 2018\")\n",
    "plt.ylabel(\"Number of Passengers\")\n",
    "plt.title(\"Passenger Volume Growth at ABIA\")\n",
    "plt.savefig(\"./resources/images/monthly_passengers.png\")\n",
    "plt.show()"
   ]
  },
  {
   "attachments": {},
   "cell_type": "markdown",
   "metadata": {},
   "source": [
    "## Average airfare\n",
    "\n",
    "* Substantial increase in average fare after 2010"
   ]
  },
  {
   "cell_type": "code",
   "execution_count": 3,
   "metadata": {},
   "outputs": [
    {
     "data": {
      "text/html": [
       "<div>\n",
       "<style scoped>\n",
       "    .dataframe tbody tr th:only-of-type {\n",
       "        vertical-align: middle;\n",
       "    }\n",
       "\n",
       "    .dataframe tbody tr th {\n",
       "        vertical-align: top;\n",
       "    }\n",
       "\n",
       "    .dataframe thead th {\n",
       "        text-align: right;\n",
       "    }\n",
       "</style>\n",
       "<table border=\"1\" class=\"dataframe\">\n",
       "  <thead>\n",
       "    <tr style=\"text-align: right;\">\n",
       "      <th></th>\n",
       "      <th>Year</th>\n",
       "      <th>Average Fare</th>\n",
       "      <th>Inflation Adjusted Avg Fare</th>\n",
       "    </tr>\n",
       "  </thead>\n",
       "  <tbody>\n",
       "    <tr>\n",
       "      <th>0</th>\n",
       "      <td>2007</td>\n",
       "      <td>342.24</td>\n",
       "      <td>413.96</td>\n",
       "    </tr>\n",
       "    <tr>\n",
       "      <th>1</th>\n",
       "      <td>2008</td>\n",
       "      <td>338.76</td>\n",
       "      <td>394.60</td>\n",
       "    </tr>\n",
       "    <tr>\n",
       "      <th>2</th>\n",
       "      <td>2009</td>\n",
       "      <td>308.11</td>\n",
       "      <td>360.17</td>\n",
       "    </tr>\n",
       "    <tr>\n",
       "      <th>3</th>\n",
       "      <td>2010</td>\n",
       "      <td>342.14</td>\n",
       "      <td>393.51</td>\n",
       "    </tr>\n",
       "    <tr>\n",
       "      <th>4</th>\n",
       "      <td>2011</td>\n",
       "      <td>367.76</td>\n",
       "      <td>410.02</td>\n",
       "    </tr>\n",
       "    <tr>\n",
       "      <th>5</th>\n",
       "      <td>2012</td>\n",
       "      <td>383.05</td>\n",
       "      <td>418.42</td>\n",
       "    </tr>\n",
       "    <tr>\n",
       "      <th>6</th>\n",
       "      <td>2013</td>\n",
       "      <td>386.60</td>\n",
       "      <td>416.20</td>\n",
       "    </tr>\n",
       "    <tr>\n",
       "      <th>7</th>\n",
       "      <td>2014</td>\n",
       "      <td>393.55</td>\n",
       "      <td>416.92</td>\n",
       "    </tr>\n",
       "    <tr>\n",
       "      <th>8</th>\n",
       "      <td>2015</td>\n",
       "      <td>371.99</td>\n",
       "      <td>393.61</td>\n",
       "    </tr>\n",
       "    <tr>\n",
       "      <th>9</th>\n",
       "      <td>2016</td>\n",
       "      <td>372.45</td>\n",
       "      <td>389.18</td>\n",
       "    </tr>\n",
       "    <tr>\n",
       "      <th>10</th>\n",
       "      <td>2017</td>\n",
       "      <td>354.14</td>\n",
       "      <td>362.34</td>\n",
       "    </tr>\n",
       "  </tbody>\n",
       "</table>\n",
       "</div>"
      ],
      "text/plain": [
       "    Year  Average Fare  Inflation Adjusted Avg Fare\n",
       "0   2007        342.24                       413.96\n",
       "1   2008        338.76                       394.60\n",
       "2   2009        308.11                       360.17\n",
       "3   2010        342.14                       393.51\n",
       "4   2011        367.76                       410.02\n",
       "5   2012        383.05                       418.42\n",
       "6   2013        386.60                       416.20\n",
       "7   2014        393.55                       416.92\n",
       "8   2015        371.99                       393.61\n",
       "9   2016        372.45                       389.18\n",
       "10  2017        354.14                       362.34"
      ]
     },
     "execution_count": 3,
     "metadata": {},
     "output_type": "execute_result"
    }
   ],
   "source": [
    "#read in Alan's csv file about inflated adjusted Avg Fares from AUS\n",
    "df = pd.read_csv('./resources/data/source/AIBA_Average_Airfare_2007_2017.csv')\n",
    "df"
   ]
  },
  {
   "cell_type": "code",
   "execution_count": 4,
   "metadata": {},
   "outputs": [
    {
     "data": {
      "text/plain": [
       "<function matplotlib.pyplot.show(*args, **kw)>"
      ]
     },
     "execution_count": 4,
     "metadata": {},
     "output_type": "execute_result"
    },
    {
     "data": {
      "image/png": "[encoded data removed]",
      "text/plain": [
       "<Figure size 432x288 with 1 Axes>"
      ]
     },
     "metadata": {
      "needs_background": "light"
     },
     "output_type": "display_data"
    }
   ],
   "source": [
    "df.plot(x=\"Year\", y=[\"Average Fare\", \"Inflation Adjusted Avg Fare\"], kind=\"line\", grid=True)\n",
    "plt.title(\"Average Fare and Inflation-Adjusted Fare,\\n Austin Bergstrom International Airport, 2007-2017\")\n",
    "plt.ylabel(\"Fare in U.S. Dollars\")\n",
    "plt.savefig(\"./resources/images/AUS_Inflation_Adjusted_Average_Fares.png\")\n",
    "plt.show"
   ]
  },
  {
   "cell_type": "markdown",
   "metadata": {},
   "source": [
    "## City pair segments"
   ]
  },
  {
   "cell_type": "code",
   "execution_count": 5,
   "metadata": {},
   "outputs": [
    {
     "data": {
      "text/html": [
       "<div>\n",
       "<style scoped>\n",
       "    .dataframe tbody tr th:only-of-type {\n",
       "        vertical-align: middle;\n",
       "    }\n",
       "\n",
       "    .dataframe tbody tr th {\n",
       "        vertical-align: top;\n",
       "    }\n",
       "\n",
       "    .dataframe thead th {\n",
       "        text-align: right;\n",
       "    }\n",
       "</style>\n",
       "<table border=\"1\" class=\"dataframe\">\n",
       "  <thead>\n",
       "    <tr style=\"text-align: right;\">\n",
       "      <th></th>\n",
       "      <th>segment growth</th>\n",
       "    </tr>\n",
       "    <tr>\n",
       "      <th>Year</th>\n",
       "      <th></th>\n",
       "    </tr>\n",
       "  </thead>\n",
       "  <tbody>\n",
       "    <tr>\n",
       "      <th>2007</th>\n",
       "      <td>7</td>\n",
       "    </tr>\n",
       "    <tr>\n",
       "      <th>2008</th>\n",
       "      <td>6</td>\n",
       "    </tr>\n",
       "    <tr>\n",
       "      <th>2009</th>\n",
       "      <td>7</td>\n",
       "    </tr>\n",
       "    <tr>\n",
       "      <th>2010</th>\n",
       "      <td>7</td>\n",
       "    </tr>\n",
       "    <tr>\n",
       "      <th>2011</th>\n",
       "      <td>6</td>\n",
       "    </tr>\n",
       "    <tr>\n",
       "      <th>2012</th>\n",
       "      <td>6</td>\n",
       "    </tr>\n",
       "    <tr>\n",
       "      <th>2013</th>\n",
       "      <td>6</td>\n",
       "    </tr>\n",
       "    <tr>\n",
       "      <th>2014</th>\n",
       "      <td>5</td>\n",
       "    </tr>\n",
       "    <tr>\n",
       "      <th>2015</th>\n",
       "      <td>5</td>\n",
       "    </tr>\n",
       "    <tr>\n",
       "      <th>2016</th>\n",
       "      <td>5</td>\n",
       "    </tr>\n",
       "    <tr>\n",
       "      <th>2017</th>\n",
       "      <td>6</td>\n",
       "    </tr>\n",
       "  </tbody>\n",
       "</table>\n",
       "</div>"
      ],
      "text/plain": [
       "      segment growth\n",
       "Year                \n",
       "2007               7\n",
       "2008               6\n",
       "2009               7\n",
       "2010               7\n",
       "2011               6\n",
       "2012               6\n",
       "2013               6\n",
       "2014               5\n",
       "2015               5\n",
       "2016               5\n",
       "2017               6"
      ]
     },
     "execution_count": 5,
     "metadata": {},
     "output_type": "execute_result"
    }
   ],
   "source": [
    "#read in Mary's file about the number of city pair segments flying out of AUS \n",
    "df = pd.read_csv('./resources/data/transformed/airlinedata.csv')\n",
    "\n",
    "#filter for years 2007 thru 2017 and group by the year and quarter\n",
    "group_by_quarter = df[(df['Year'] >= 2007) & (df['Year'] <= 2017)].groupby(['Year', 'quarter']).nunique()\n",
    "df2 = group_by_quarter[['carrier_lg']].reset_index().rename(columns={'carrier_lg': 'segment growth'})\n",
    "\n",
    "df2[df2['quarter'] == 4][['Year', 'segment growth']].set_index('Year')"
   ]
  },
  {
   "cell_type": "code",
   "execution_count": 6,
   "metadata": {},
   "outputs": [
    {
     "data": {
      "image/png": "[encoded data removed]",
      "text/plain": [
       "<Figure size 432x288 with 1 Axes>"
      ]
     },
     "metadata": {
      "needs_background": "light"
     },
     "output_type": "display_data"
    }
   ],
   "source": [
    "#for each year taking the last quarter of the year, plot a bar graph that showcases growth of the number of city pair segments\n",
    "df2[df2['quarter'] == 4][['Year', 'segment growth']].plot(x='Year', y='segment growth', kind='bar', grid=True)\n",
    "plt.title('City pair segment growth from AUS over the years')\n",
    "plt.xlabel('Year')\n",
    "plt.ylabel('Count of segments')\n",
    "plt.savefig('./resources/images/AUS_City_pair_segment_growth.png')\n",
    "plt.show()"
   ]
  },
  {
   "cell_type": "markdown",
   "metadata": {},
   "source": [
    "## Arrival and Departure performance"
   ]
  },
  {
   "cell_type": "code",
   "execution_count": 7,
   "metadata": {},
   "outputs": [
    {
     "data": {
      "text/html": [
       "<div>\n",
       "<style scoped>\n",
       "    .dataframe tbody tr th:only-of-type {\n",
       "        vertical-align: middle;\n",
       "    }\n",
       "\n",
       "    .dataframe tbody tr th {\n",
       "        vertical-align: top;\n",
       "    }\n",
       "\n",
       "    .dataframe thead th {\n",
       "        text-align: right;\n",
       "    }\n",
       "</style>\n",
       "<table border=\"1\" class=\"dataframe\">\n",
       "  <thead>\n",
       "    <tr style=\"text-align: right;\">\n",
       "      <th></th>\n",
       "      <th>Year</th>\n",
       "      <th>Operations</th>\n",
       "      <th>Late Arrivals</th>\n",
       "      <th>Late Departures</th>\n",
       "      <th>Cancelled</th>\n",
       "      <th>Diverted</th>\n",
       "      <th>Percent On-Time Arrivals</th>\n",
       "      <th>Percent Late Arrivals</th>\n",
       "      <th>Percent Late Departures</th>\n",
       "      <th>Percent Cancelled</th>\n",
       "      <th>Percent Diverted</th>\n",
       "    </tr>\n",
       "  </thead>\n",
       "  <tbody>\n",
       "    <tr>\n",
       "      <th>12</th>\n",
       "      <td>2007</td>\n",
       "      <td>5603935</td>\n",
       "      <td>1364612</td>\n",
       "      <td>1195992</td>\n",
       "      <td>125649</td>\n",
       "      <td>13783</td>\n",
       "      <td>73.16</td>\n",
       "      <td>24.35</td>\n",
       "      <td>21.34</td>\n",
       "      <td>2.24</td>\n",
       "      <td>0.25</td>\n",
       "    </tr>\n",
       "    <tr>\n",
       "      <th>13</th>\n",
       "      <td>2008</td>\n",
       "      <td>5385293</td>\n",
       "      <td>1200649</td>\n",
       "      <td>1046980</td>\n",
       "      <td>111948</td>\n",
       "      <td>13107</td>\n",
       "      <td>75.38</td>\n",
       "      <td>22.29</td>\n",
       "      <td>19.44</td>\n",
       "      <td>2.08</td>\n",
       "      <td>0.24</td>\n",
       "    </tr>\n",
       "    <tr>\n",
       "      <th>14</th>\n",
       "      <td>2009</td>\n",
       "      <td>4879677</td>\n",
       "      <td>916979</td>\n",
       "      <td>751942</td>\n",
       "      <td>66642</td>\n",
       "      <td>12205</td>\n",
       "      <td>79.59</td>\n",
       "      <td>18.79</td>\n",
       "      <td>16.60</td>\n",
       "      <td>1.37</td>\n",
       "      <td>0.25</td>\n",
       "    </tr>\n",
       "    <tr>\n",
       "      <th>15</th>\n",
       "      <td>2010</td>\n",
       "      <td>4844217</td>\n",
       "      <td>879592</td>\n",
       "      <td>829696</td>\n",
       "      <td>84533</td>\n",
       "      <td>12433</td>\n",
       "      <td>79.84</td>\n",
       "      <td>18.16</td>\n",
       "      <td>17.13</td>\n",
       "      <td>1.75</td>\n",
       "      <td>0.26</td>\n",
       "    </tr>\n",
       "    <tr>\n",
       "      <th>16</th>\n",
       "      <td>2011</td>\n",
       "      <td>4608956</td>\n",
       "      <td>902761</td>\n",
       "      <td>845688</td>\n",
       "      <td>105136</td>\n",
       "      <td>11917</td>\n",
       "      <td>77.87</td>\n",
       "      <td>19.59</td>\n",
       "      <td>18.35</td>\n",
       "      <td>2.28</td>\n",
       "      <td>0.26</td>\n",
       "    </tr>\n",
       "    <tr>\n",
       "      <th>17</th>\n",
       "      <td>2012</td>\n",
       "      <td>4599284</td>\n",
       "      <td>758052</td>\n",
       "      <td>738910</td>\n",
       "      <td>51163</td>\n",
       "      <td>9894</td>\n",
       "      <td>82.19</td>\n",
       "      <td>16.48</td>\n",
       "      <td>16.07</td>\n",
       "      <td>1.11</td>\n",
       "      <td>0.22</td>\n",
       "    </tr>\n",
       "    <tr>\n",
       "      <th>18</th>\n",
       "      <td>2013</td>\n",
       "      <td>4814103</td>\n",
       "      <td>965629</td>\n",
       "      <td>929499</td>\n",
       "      <td>72920</td>\n",
       "      <td>11389</td>\n",
       "      <td>78.19</td>\n",
       "      <td>20.06</td>\n",
       "      <td>19.31</td>\n",
       "      <td>1.51</td>\n",
       "      <td>0.24</td>\n",
       "    </tr>\n",
       "    <tr>\n",
       "      <th>19</th>\n",
       "      <td>2014</td>\n",
       "      <td>4389563</td>\n",
       "      <td>953423</td>\n",
       "      <td>923101</td>\n",
       "      <td>110742</td>\n",
       "      <td>11902</td>\n",
       "      <td>75.49</td>\n",
       "      <td>21.72</td>\n",
       "      <td>21.03</td>\n",
       "      <td>2.52</td>\n",
       "      <td>0.27</td>\n",
       "    </tr>\n",
       "    <tr>\n",
       "      <th>20</th>\n",
       "      <td>2015</td>\n",
       "      <td>4385712</td>\n",
       "      <td>836017</td>\n",
       "      <td>827661</td>\n",
       "      <td>74768</td>\n",
       "      <td>11898</td>\n",
       "      <td>78.96</td>\n",
       "      <td>19.06</td>\n",
       "      <td>18.87</td>\n",
       "      <td>1.70</td>\n",
       "      <td>0.27</td>\n",
       "    </tr>\n",
       "    <tr>\n",
       "      <th>21</th>\n",
       "      <td>2016</td>\n",
       "      <td>4233145</td>\n",
       "      <td>738305</td>\n",
       "      <td>728480</td>\n",
       "      <td>52540</td>\n",
       "      <td>11086</td>\n",
       "      <td>81.06</td>\n",
       "      <td>17.44</td>\n",
       "      <td>17.21</td>\n",
       "      <td>1.24</td>\n",
       "      <td>0.26</td>\n",
       "    </tr>\n",
       "    <tr>\n",
       "      <th>22</th>\n",
       "      <td>2017</td>\n",
       "      <td>4276457</td>\n",
       "      <td>823847</td>\n",
       "      <td>804769</td>\n",
       "      <td>72648</td>\n",
       "      <td>10219</td>\n",
       "      <td>78.80</td>\n",
       "      <td>19.26</td>\n",
       "      <td>18.82</td>\n",
       "      <td>1.70</td>\n",
       "      <td>0.24</td>\n",
       "    </tr>\n",
       "  </tbody>\n",
       "</table>\n",
       "</div>"
      ],
      "text/plain": [
       "    Year  Operations  Late Arrivals  Late Departures  Cancelled  Diverted  \\\n",
       "12  2007     5603935        1364612          1195992     125649     13783   \n",
       "13  2008     5385293        1200649          1046980     111948     13107   \n",
       "14  2009     4879677         916979           751942      66642     12205   \n",
       "15  2010     4844217         879592           829696      84533     12433   \n",
       "16  2011     4608956         902761           845688     105136     11917   \n",
       "17  2012     4599284         758052           738910      51163      9894   \n",
       "18  2013     4814103         965629           929499      72920     11389   \n",
       "19  2014     4389563         953423           923101     110742     11902   \n",
       "20  2015     4385712         836017           827661      74768     11898   \n",
       "21  2016     4233145         738305           728480      52540     11086   \n",
       "22  2017     4276457         823847           804769      72648     10219   \n",
       "\n",
       "    Percent On-Time Arrivals  Percent Late Arrivals  Percent Late Departures  \\\n",
       "12                     73.16                  24.35                    21.34   \n",
       "13                     75.38                  22.29                    19.44   \n",
       "14                     79.59                  18.79                    16.60   \n",
       "15                     79.84                  18.16                    17.13   \n",
       "16                     77.87                  19.59                    18.35   \n",
       "17                     82.19                  16.48                    16.07   \n",
       "18                     78.19                  20.06                    19.31   \n",
       "19                     75.49                  21.72                    21.03   \n",
       "20                     78.96                  19.06                    18.87   \n",
       "21                     81.06                  17.44                    17.21   \n",
       "22                     78.80                  19.26                    18.82   \n",
       "\n",
       "    Percent Cancelled  Percent Diverted  \n",
       "12               2.24              0.25  \n",
       "13               2.08              0.24  \n",
       "14               1.37              0.25  \n",
       "15               1.75              0.26  \n",
       "16               2.28              0.26  \n",
       "17               1.11              0.22  \n",
       "18               1.51              0.24  \n",
       "19               2.52              0.27  \n",
       "20               1.70              0.27  \n",
       "21               1.24              0.26  \n",
       "22               1.70              0.24  "
      ]
     },
     "execution_count": 7,
     "metadata": {},
     "output_type": "execute_result"
    }
   ],
   "source": [
    "#Read in Mary's file that has data about Arrival Performance\n",
    "df = pd.read_csv('./resources/data/source/September2018Arrival.csv')\n",
    "\n",
    "#filter the data for a range between 2007 and 2017\n",
    "df = df[(df['Year'] >= 2007) & (df['Year'] <= 2017)]\n",
    "df"
   ]
  },
  {
   "cell_type": "code",
   "execution_count": 8,
   "metadata": {},
   "outputs": [],
   "source": [
    "def plot_pie(year):\n",
    "    # Labels for the sections of our pie chart\n",
    "    labels = ['On-Time Arrivals', 'Late Arrivals', 'Cancelled', 'Diverted']\n",
    "\n",
    "    # The values of each section of the pie chart\n",
    "    sizes = df[df['Year'] == year][['Percent On-Time Arrivals', 'Percent Late Arrivals', 'Percent Cancelled', 'Percent Diverted']].values.tolist()[0]\n",
    "\n",
    "    # The colors of each section of the pie chart\n",
    "    colors = [\"gold\", \"lightskyblue\", \"lightcoral\", \"lightgreen\"]\n",
    "\n",
    "    # Build Pie Chart\n",
    "    plt.pie(x=sizes, labels=labels, colors=colors,\n",
    "            autopct=\"%1.2f%%\", pctdistance=1.5, labeldistance=1.1, radius=1.8)\n",
    "    plt.savefig(f'./resources/images/AUS_{year}_Arrival_Performance_Pie_Chart.png')\n",
    "    plt.show()"
   ]
  },
  {
   "cell_type": "code",
   "execution_count": 9,
   "metadata": {},
   "outputs": [
    {
     "data": {
      "application/vnd.jupyter.widget-view+json": {
       "model_id": "be4576dedd3f49789492b988fe8354d9",
       "version_major": 2,
       "version_minor": 0
      },
      "text/plain": [
       "interactive(children=(IntSlider(value=2012, description='year', max=2017, min=2007), Output()), _dom_classes=(…"
      ]
     },
     "metadata": {},
     "output_type": "display_data"
    },
    {
     "data": {
      "text/plain": [
       "<function __main__.plot_pie(year)>"
      ]
     },
     "execution_count": 9,
     "metadata": {},
     "output_type": "execute_result"
    }
   ],
   "source": [
    "#plot_pie(2007)\n",
    "interact(plot_pie, year=(2007, 2017, 1))"
   ]
  },
  {
   "cell_type": "markdown",
   "metadata": {},
   "source": [
    "## On Time Arrivals"
   ]
  },
  {
   "cell_type": "code",
   "execution_count": 10,
   "metadata": {},
   "outputs": [
    {
     "data": {
      "image/png": "[encoded data removed]",
      "text/plain": [
       "<Figure size 432x288 with 1 Axes>"
      ]
     },
     "metadata": {
      "needs_background": "light"
     },
     "output_type": "display_data"
    }
   ],
   "source": [
    "# plot percent on-time arrival over the years\n",
    "df.plot(x='Year', y='Percent On-Time Arrivals', grid=True)\n",
    "plt.title('Percent of Flights that Arrived\\n On-Time between 2007 and 2018')\n",
    "plt.xlabel('Year')\n",
    "plt.ylabel('Percent')\n",
    "plt.savefig('./resources/images/AUS_On_time_Arrivals.png')\n",
    "plt.show()"
   ]
  },
  {
   "cell_type": "code",
   "execution_count": 11,
   "metadata": {},
   "outputs": [
    {
     "data": {
      "text/html": [
       "<div>\n",
       "<style scoped>\n",
       "    .dataframe tbody tr th:only-of-type {\n",
       "        vertical-align: middle;\n",
       "    }\n",
       "\n",
       "    .dataframe tbody tr th {\n",
       "        vertical-align: top;\n",
       "    }\n",
       "\n",
       "    .dataframe thead th {\n",
       "        text-align: right;\n",
       "    }\n",
       "</style>\n",
       "<table border=\"1\" class=\"dataframe\">\n",
       "  <thead>\n",
       "    <tr style=\"text-align: right;\">\n",
       "      <th></th>\n",
       "      <th>Year</th>\n",
       "      <th>Operations</th>\n",
       "      <th>Late Arrivals</th>\n",
       "      <th>Late Departures</th>\n",
       "      <th>Cancelled</th>\n",
       "      <th>Diverted</th>\n",
       "    </tr>\n",
       "  </thead>\n",
       "  <tbody>\n",
       "    <tr>\n",
       "      <th>12</th>\n",
       "      <td>2007</td>\n",
       "      <td>5603935</td>\n",
       "      <td>1364612</td>\n",
       "      <td>1195992</td>\n",
       "      <td>125649</td>\n",
       "      <td>13783</td>\n",
       "    </tr>\n",
       "    <tr>\n",
       "      <th>13</th>\n",
       "      <td>2008</td>\n",
       "      <td>5385293</td>\n",
       "      <td>1200649</td>\n",
       "      <td>1046980</td>\n",
       "      <td>111948</td>\n",
       "      <td>13107</td>\n",
       "    </tr>\n",
       "    <tr>\n",
       "      <th>14</th>\n",
       "      <td>2009</td>\n",
       "      <td>4879677</td>\n",
       "      <td>916979</td>\n",
       "      <td>751942</td>\n",
       "      <td>66642</td>\n",
       "      <td>12205</td>\n",
       "    </tr>\n",
       "    <tr>\n",
       "      <th>15</th>\n",
       "      <td>2010</td>\n",
       "      <td>4844217</td>\n",
       "      <td>879592</td>\n",
       "      <td>829696</td>\n",
       "      <td>84533</td>\n",
       "      <td>12433</td>\n",
       "    </tr>\n",
       "    <tr>\n",
       "      <th>16</th>\n",
       "      <td>2011</td>\n",
       "      <td>4608956</td>\n",
       "      <td>902761</td>\n",
       "      <td>845688</td>\n",
       "      <td>105136</td>\n",
       "      <td>11917</td>\n",
       "    </tr>\n",
       "    <tr>\n",
       "      <th>17</th>\n",
       "      <td>2012</td>\n",
       "      <td>4599284</td>\n",
       "      <td>758052</td>\n",
       "      <td>738910</td>\n",
       "      <td>51163</td>\n",
       "      <td>9894</td>\n",
       "    </tr>\n",
       "    <tr>\n",
       "      <th>18</th>\n",
       "      <td>2013</td>\n",
       "      <td>4814103</td>\n",
       "      <td>965629</td>\n",
       "      <td>929499</td>\n",
       "      <td>72920</td>\n",
       "      <td>11389</td>\n",
       "    </tr>\n",
       "    <tr>\n",
       "      <th>19</th>\n",
       "      <td>2014</td>\n",
       "      <td>4389563</td>\n",
       "      <td>953423</td>\n",
       "      <td>923101</td>\n",
       "      <td>110742</td>\n",
       "      <td>11902</td>\n",
       "    </tr>\n",
       "    <tr>\n",
       "      <th>20</th>\n",
       "      <td>2015</td>\n",
       "      <td>4385712</td>\n",
       "      <td>836017</td>\n",
       "      <td>827661</td>\n",
       "      <td>74768</td>\n",
       "      <td>11898</td>\n",
       "    </tr>\n",
       "    <tr>\n",
       "      <th>21</th>\n",
       "      <td>2016</td>\n",
       "      <td>4233145</td>\n",
       "      <td>738305</td>\n",
       "      <td>728480</td>\n",
       "      <td>52540</td>\n",
       "      <td>11086</td>\n",
       "    </tr>\n",
       "    <tr>\n",
       "      <th>22</th>\n",
       "      <td>2017</td>\n",
       "      <td>4276457</td>\n",
       "      <td>823847</td>\n",
       "      <td>804769</td>\n",
       "      <td>72648</td>\n",
       "      <td>10219</td>\n",
       "    </tr>\n",
       "  </tbody>\n",
       "</table>\n",
       "</div>"
      ],
      "text/plain": [
       "    Year  Operations  Late Arrivals  Late Departures  Cancelled  Diverted\n",
       "12  2007     5603935        1364612          1195992     125649     13783\n",
       "13  2008     5385293        1200649          1046980     111948     13107\n",
       "14  2009     4879677         916979           751942      66642     12205\n",
       "15  2010     4844217         879592           829696      84533     12433\n",
       "16  2011     4608956         902761           845688     105136     11917\n",
       "17  2012     4599284         758052           738910      51163      9894\n",
       "18  2013     4814103         965629           929499      72920     11389\n",
       "19  2014     4389563         953423           923101     110742     11902\n",
       "20  2015     4385712         836017           827661      74768     11898\n",
       "21  2016     4233145         738305           728480      52540     11086\n",
       "22  2017     4276457         823847           804769      72648     10219"
      ]
     },
     "execution_count": 11,
     "metadata": {},
     "output_type": "execute_result"
    }
   ],
   "source": [
    "df = df[['Year', 'Operations', 'Late Arrivals', 'Late Departures', 'Cancelled', 'Diverted']]\n",
    "df"
   ]
  },
  {
   "attachments": {},
   "cell_type": "markdown",
   "metadata": {},
   "source": [
    "## Performance Trend\n",
    "\n",
    "* Decrease in performance over the years (data for Operations)\n",
    "* Cancelled and diverted flights stayed steady over the years\n"
   ]
  },
  {
   "cell_type": "code",
   "execution_count": 12,
   "metadata": {},
   "outputs": [
    {
     "data": {
      "image/png": "[encoded data removed]",
      "text/plain": [
       "<Figure size 432x288 with 1 Axes>"
      ]
     },
     "metadata": {
      "needs_background": "light"
     },
     "output_type": "display_data"
    }
   ],
   "source": [
    "# gca stands for 'get current axis'\n",
    "ax = plt.gca()\n",
    "\n",
    "# plot 4 lines\n",
    "df.plot(kind='line',x='Year',y='Operations', color='purple', ax=ax)\n",
    "df.plot(kind='line',x='Year',y='Late Arrivals',ax=ax)\n",
    "df.plot(kind='line',x='Year',y='Late Departures', color='red', ax=ax)\n",
    "df.plot(kind='line',x='Year',y='Cancelled', color='green', ax=ax)\n",
    "df.plot(kind='line',x='Year',y='Diverted', color='yellow', ax=ax)\n",
    "plt.title('Flight Status between \\n2007-2017')\n",
    "plt.xlabel('Year')\n",
    "plt.ylabel('Number of Flights')\n",
    "plt.grid()\n",
    "plt.savefig('./resources/images/AUS_Flight_statues.png')\n",
    "plt.show()"
   ]
  },
  {
   "attachments": {},
   "cell_type": "markdown",
   "metadata": {},
   "source": [
    "## Passenger growth\n",
    "\n",
    "* Steady growth between 2007 to 2012\n",
    "* Dramatic increase in number of passengers flying out of Austin after 2012"
   ]
  },
  {
   "cell_type": "code",
   "execution_count": 13,
   "metadata": {},
   "outputs": [],
   "source": [
    "#read Dexter's cleaned up csv files that were created in ./pyDataCleanup.ipynb\n",
    "df = pd.read_csv('./resources/data/transformed/AUS.csv')\n",
    "df_coords = pd.read_csv('./resources/data/transformed/destination_airports_lat_lng.csv')"
   ]
  },
  {
   "cell_type": "code",
   "execution_count": 14,
   "metadata": {
    "scrolled": true
   },
   "outputs": [
    {
     "data": {
      "image/png": "[encoded data removed]",
      "text/plain": [
       "<Figure size 432x288 with 1 Axes>"
      ]
     },
     "metadata": {
      "needs_background": "light"
     },
     "output_type": "display_data"
    }
   ],
   "source": [
    "#line chart showcasing the growth of number of passengers per year flying out of Austin\n",
    "df.groupby('Year').agg({'passengers': 'sum'}).plot(kind='line', grid=True, title='Number of passengers per year flying out of Austin')\n",
    "plt.ylabel(\"Number of Passengers\")\n",
    "plt.savefig(\"./resources/images/AUS_yearly_passenger_growth.png\")\n",
    "plt.show()"
   ]
  },
  {
   "cell_type": "code",
   "execution_count": 15,
   "metadata": {},
   "outputs": [],
   "source": [
    "#line chart showcasing the change of average fare over the years\n",
    "#df.groupby('Year').agg({'fare': 'mean'}).plot(kind='line', grid=True, title='Average fare from Austin over the years')\n",
    "#plt.ylabel(\"Average Fare ($)\")\n",
    "#plt.savefig(\"./resources/images/AUS_yearly_average_fare.png\")\n",
    "#plt.show()"
   ]
  },
  {
   "cell_type": "markdown",
   "metadata": {},
   "source": [
    "## Heatmaps showcasing Passenger Growth"
   ]
  },
  {
   "cell_type": "code",
   "execution_count": 16,
   "metadata": {},
   "outputs": [],
   "source": [
    "def get_dataframe(year):\n",
    "\n",
    "    #first get the total number of passengers per year and the average fare flying out of Austin to other aiports\n",
    "    df1 = df[df['Year'] == year].groupby(['Year','airport_2']).agg({'passengers': 'sum', 'fare': 'mean'}).reset_index()\n",
    "\n",
    "    #now merge aganst the df_coords so that we can get the lat and lng to use in the heatmap\n",
    "    df_merged = pd.merge(df1, df_coords, how='inner', on=['airport_2', 'airport_2'])\n",
    "    return df_merged\n",
    "\n",
    "def show_map(year, map_type='ipyleaflet.HeatMap'):\n",
    "    df = get_dataframe(year)\n",
    "    \n",
    "    #reduce the number of passengers as a representation of 100,000's so that it's easy to use as weights \n",
    "    #with a max_intensity of 1.75 for the heatmap\n",
    "    df['passengers'] = df['passengers'].astype(float) / 100000.0\n",
    "    \n",
    "    if map_type == 'ipyleaflet.HeatMap':\n",
    "        #plot to a map, using Austin, TX as the center\n",
    "        m = Map(center=[30.267153 ,-97.7430608], zoom=4, dragging=True, inertia=True, scroll_wheel_zoom=True)\n",
    "        heatmap = Heatmap(locations=df[['lat', 'lng', 'passengers']].values.tolist()\n",
    "                          , min_opacity=2\n",
    "                          , radius=15\n",
    "                          , blur=19\n",
    "                          , max=1)\n",
    "        m.add_layer(heatmap);\n",
    "        return m\n",
    "    elif map_type == 'gmaps.heatmap_layer':\n",
    "        gmaps.configure(api_key=gkey)\n",
    "        # Plot Heatmap\n",
    "        fig = gmaps.figure()\n",
    "        \n",
    "        # Create heat layer\n",
    "        heat_layer = gmaps.heatmap_layer(locations=df[['lat', 'lng']]\n",
    "                                         , weights=df['passengers']\n",
    "                                         , dissipating=False\n",
    "                                         , max_intensity=1.75\n",
    "                                         , point_radius=0.2)\n",
    "\n",
    "        # Add layer\n",
    "        fig.add_layer(heat_layer)\n",
    "\n",
    "        # Display figure\n",
    "        return fig\n",
    "    "
   ]
  },
  {
   "cell_type": "code",
   "execution_count": 17,
   "metadata": {
    "scrolled": true
   },
   "outputs": [
    {
     "data": {
      "application/vnd.jupyter.widget-view+json": {
       "model_id": "31e91702e94e480896fdf1640cf25996",
       "version_major": 2,
       "version_minor": 0
      },
      "text/plain": [
       "interactive(children=(IntSlider(value=2012, description='year', max=2017, min=2007), Dropdown(description='map…"
      ]
     },
     "metadata": {},
     "output_type": "display_data"
    },
    {
     "data": {
      "text/plain": [
       "<function __main__.show_map(year, map_type='ipyleaflet.HeatMap')>"
      ]
     },
     "execution_count": 17,
     "metadata": {},
     "output_type": "execute_result"
    }
   ],
   "source": [
    "interact(show_map, year=(2007, 2017), map_type=['ipyleaflet.HeatMap', 'gmaps.heatmap_layer'])\n",
    "#show_map(year=2007, map_type='ipyleaflet.HeatMap')"
   ]
  },
  {
   "cell_type": "code",
   "execution_count": 21,
   "metadata": {},
   "outputs": [],
   "source": [
    "#show_map(year=2007, map_type='gmaps.heatmap_layer')"
   ]
  },
  {
   "cell_type": "markdown",
   "metadata": {},
   "source": [
    "## Passenger growth v/s Average Fare"
   ]
  },
  {
   "cell_type": "code",
   "execution_count": 19,
   "metadata": {},
   "outputs": [],
   "source": [
    "def show_scatter(year, passenger_min_value, fare_min_value):\n",
    "    df = get_dataframe(year)\n",
    "    \n",
    "    #reduce to number of passengers as a representation of 1,000's \n",
    "    df['passengers'] = df['passengers'].astype(float) / 1000.0    \n",
    "    \n",
    "    plt.scatter(x=df['passengers']\n",
    "                , y=df['fare']\n",
    "                , s=df['passengers'] \n",
    "                , c=np.arange(len(df))\n",
    "                , cmap=cm.viridis\n",
    "                , alpha=.75\n",
    "                , edgecolors='black'\n",
    "                , linewidths=.75)\n",
    "\n",
    "    for i, airport_2 in enumerate(df['airport_2']):\n",
    "        plt.annotate(s=airport_2\n",
    "                     , xy=(df['passengers'][i], df['fare'][i])\n",
    "                     , xytext=((df['passengers'][i]) + 12, df['fare'][i] - 3)\n",
    "                    )\n",
    "        \n",
    "    plt.title(\"Number of passengers v/s average fare per city pair\")\n",
    "    plt.xlabel(\"Number of passengers in the 1,000's travelling through AUS\")\n",
    "    plt.ylabel(f\"Average Fare ($) per year for {year}\")\n",
    "    plt.xlim(passenger_min_value, 600)\n",
    "    plt.ylim(fare_min_value, 400)\n",
    "    plt.grid()\n",
    "    plt.savefig(f\"./resources/images/{year}_AUS_passenger_min_value_{passenger_min_value}_average_fare_min_value_{fare_min_value}_scatter.png\")\n",
    "    plt.show()"
   ]
  },
  {
   "cell_type": "code",
   "execution_count": 20,
   "metadata": {},
   "outputs": [
    {
     "data": {
      "application/vnd.jupyter.widget-view+json": {
       "model_id": "1e9438846adc4df68db23433eb26a039",
       "version_major": 2,
       "version_minor": 0
      },
      "text/plain": [
       "interactive(children=(IntSlider(value=2012, description='year', max=2017, min=2007), IntSlider(value=150, desc…"
      ]
     },
     "metadata": {},
     "output_type": "display_data"
    },
    {
     "data": {
      "text/plain": [
       "<function __main__.show_scatter(year, passenger_min_value, fare_min_value)>"
      ]
     },
     "execution_count": 20,
     "metadata": {},
     "output_type": "execute_result"
    }
   ],
   "source": [
    "interact(show_scatter, year=(2007, 2017, 1), passenger_min_value=(0, 300, 25), fare_min_value=(0, 400, 25))\n",
    "#show_scatter(year=2007, passenger_min_value=75, fare_min_value=75)"
   ]
  },
  {
   "attachments": {},
   "cell_type": "markdown",
   "metadata": {},
   "source": [
    "## Conclusion\n",
    "\n",
    "* Number of passengers flying out of Austin Airport and average fare has definitely increased over the years\n",
    "* Performance has decreased over the years\n",
    "* Possibly due to the increase in traffic/volume\n",
    "* Passengers were flying to Dallas frequently back in 2007, over the years it slowly switched to Los Angeles\n",
    "* Dallas was the main hub for passengers to transfer, and more direct flights added to Austin Airport may have caused this change\n",
    "* Large increase in flights going into San Jose and San Francisco\n",
    "* Tech companies moving into Austin, resulting in increase in flights/passengers flying to the tech headquarters in California "
   ]
  },
  {
   "cell_type": "code",
   "execution_count": null,
   "metadata": {},
   "outputs": [],
   "source": []
  }
 ],
 "metadata": {
  "kernelspec": {
   "display_name": "pythondata",
   "language": "python",
   "name": "pythondata"
  },
  "language_info": {
   "codemirror_mode": {
    "name": "ipython",
    "version": 3
   },
   "file_extension": ".py",
   "mimetype": "text/x-python",
   "name": "python",
   "nbconvert_exporter": "python",
   "pygments_lexer": "ipython3",
   "version": "3.6.7"
  }
 },
 "nbformat": 4,
 "nbformat_minor": 2
}
